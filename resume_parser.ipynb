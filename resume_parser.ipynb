{
  "nbformat": 4,
  "nbformat_minor": 0,
  "metadata": {
    "colab": {
      "provenance": [],
      "authorship_tag": "ABX9TyM6HRMxPEtH/C7lh1Ce1mNL",
      "include_colab_link": true
    },
    "kernelspec": {
      "name": "python3",
      "display_name": "Python 3"
    },
    "language_info": {
      "name": "python"
    }
  },
  "cells": [
    {
      "cell_type": "markdown",
      "metadata": {
        "id": "view-in-github",
        "colab_type": "text"
      },
      "source": [
        "<a href=\"https://colab.research.google.com/github/pranesh008/Resume-extract/blob/main/resume_parser.ipynb\" target=\"_parent\"><img src=\"https://colab.research.google.com/assets/colab-badge.svg\" alt=\"Open In Colab\"/></a>"
      ]
    },
    {
      "cell_type": "code",
      "execution_count": 4,
      "metadata": {
        "id": "rcHbsOVVjF5y"
      },
      "outputs": [],
      "source": [
        "import pdfplumber\n",
        "import json\n",
        "import re\n"
      ]
    },
    {
      "cell_type": "code",
      "source": [
        "pip install pdfplumber"
      ],
      "metadata": {
        "colab": {
          "base_uri": "https://localhost:8080/"
        },
        "id": "Hc7HGi0EkXJ1",
        "outputId": "43ec8a7b-a6f4-4316-8c1e-5031ecc4a1a5"
      },
      "execution_count": 3,
      "outputs": [
        {
          "output_type": "stream",
          "name": "stdout",
          "text": [
            "Collecting pdfplumber\n",
            "  Downloading pdfplumber-0.11.2-py3-none-any.whl.metadata (40 kB)\n",
            "\u001b[?25l     \u001b[90m━━━━━━━━━━━━━━━━━━━━━━━━━━━━━━━━━━━━━━━━\u001b[0m \u001b[32m0.0/40.1 kB\u001b[0m \u001b[31m?\u001b[0m eta \u001b[36m-:--:--\u001b[0m\r\u001b[2K     \u001b[90m━━━━━━━━━━━━━━━━━━━━━━━━━━━━━━━━━━━━━━━━\u001b[0m \u001b[32m40.1/40.1 kB\u001b[0m \u001b[31m1.7 MB/s\u001b[0m eta \u001b[36m0:00:00\u001b[0m\n",
            "\u001b[?25hCollecting pdfminer.six==20231228 (from pdfplumber)\n",
            "  Downloading pdfminer.six-20231228-py3-none-any.whl.metadata (4.2 kB)\n",
            "Requirement already satisfied: Pillow>=9.1 in /usr/local/lib/python3.10/dist-packages (from pdfplumber) (9.4.0)\n",
            "Collecting pypdfium2>=4.18.0 (from pdfplumber)\n",
            "  Downloading pypdfium2-4.30.0-py3-none-manylinux_2_17_x86_64.manylinux2014_x86_64.whl.metadata (48 kB)\n",
            "\u001b[2K     \u001b[90m━━━━━━━━━━━━━━━━━━━━━━━━━━━━━━━━━━━━━━━━\u001b[0m \u001b[32m48.5/48.5 kB\u001b[0m \u001b[31m2.8 MB/s\u001b[0m eta \u001b[36m0:00:00\u001b[0m\n",
            "\u001b[?25hRequirement already satisfied: charset-normalizer>=2.0.0 in /usr/local/lib/python3.10/dist-packages (from pdfminer.six==20231228->pdfplumber) (3.3.2)\n",
            "Requirement already satisfied: cryptography>=36.0.0 in /usr/local/lib/python3.10/dist-packages (from pdfminer.six==20231228->pdfplumber) (42.0.8)\n",
            "Requirement already satisfied: cffi>=1.12 in /usr/local/lib/python3.10/dist-packages (from cryptography>=36.0.0->pdfminer.six==20231228->pdfplumber) (1.16.0)\n",
            "Requirement already satisfied: pycparser in /usr/local/lib/python3.10/dist-packages (from cffi>=1.12->cryptography>=36.0.0->pdfminer.six==20231228->pdfplumber) (2.22)\n",
            "Downloading pdfplumber-0.11.2-py3-none-any.whl (58 kB)\n",
            "\u001b[2K   \u001b[90m━━━━━━━━━━━━━━━━━━━━━━━━━━━━━━━━━━━━━━━━\u001b[0m \u001b[32m58.0/58.0 kB\u001b[0m \u001b[31m4.6 MB/s\u001b[0m eta \u001b[36m0:00:00\u001b[0m\n",
            "\u001b[?25hDownloading pdfminer.six-20231228-py3-none-any.whl (5.6 MB)\n",
            "\u001b[2K   \u001b[90m━━━━━━━━━━━━━━━━━━━━━━━━━━━━━━━━━━━━━━━━\u001b[0m \u001b[32m5.6/5.6 MB\u001b[0m \u001b[31m48.7 MB/s\u001b[0m eta \u001b[36m0:00:00\u001b[0m\n",
            "\u001b[?25hDownloading pypdfium2-4.30.0-py3-none-manylinux_2_17_x86_64.manylinux2014_x86_64.whl (2.8 MB)\n",
            "\u001b[2K   \u001b[90m━━━━━━━━━━━━━━━━━━━━━━━━━━━━━━━━━━━━━━━━\u001b[0m \u001b[32m2.8/2.8 MB\u001b[0m \u001b[31m66.7 MB/s\u001b[0m eta \u001b[36m0:00:00\u001b[0m\n",
            "\u001b[?25hInstalling collected packages: pypdfium2, pdfminer.six, pdfplumber\n",
            "Successfully installed pdfminer.six-20231228 pdfplumber-0.11.2 pypdfium2-4.30.0\n"
          ]
        }
      ]
    },
    {
      "cell_type": "code",
      "source": [
        "\n",
        "def extract_text_from_pdf(pdf_path):\n",
        "    with pdfplumber.open(\"/content/Pranesh Puri - resume .pdf\") as pdf:\n",
        "        text = ''\n",
        "        for page in pdf.pages:\n",
        "            text += page.extract_text()\n",
        "    return text\n"
      ],
      "metadata": {
        "id": "-7MsvzYPkRrM"
      },
      "execution_count": 6,
      "outputs": []
    },
    {
      "cell_type": "code",
      "source": [
        "def parse_resume(text):\n",
        "    # Extract contact information\n",
        "    contact_info = {\n",
        "        \"name\": re.search(r'^(.+?)\\n', text).group(1).strip(),\n",
        "        \"email\": re.search(r'(\\S+@\\S+)', text).group(1).strip(),\n",
        "        \"phone\": re.search(r'(\\+\\d+ \\d+)', text).group(1).strip(),\n",
        "        \"location\": re.search(r'(\\w+\\, \\w+)', text).group(1).strip(),\n",
        "       # \"linkedin\": re.search(r'linkedin:(\\S+)', text, re.IGNORECASE).group(1).strip()\n",
        "    }\n",
        "\n",
        "    # Extract profile\n",
        "    profile = re.search(r'PROFILE\\n(.+?)\\nEDUCATION', text, re.DOTALL).group(1).strip()\n",
        "\n",
        "    # Extract education\n",
        "    education_sections = re.findall(r'([A-Z][\\w\\s]+)\\n(.+?)\\n(CGPA|Percentage|Year|[\\d]{4} – [\\d]{4}|[A-Za-z\\s]+)\\n*(.+?)\\n*(Pune|[\\d]{4})', text, re.DOTALL)\n",
        "    education = []\n",
        "    for section in education_sections:\n",
        "        education.append({\n",
        "            \"degree\": section[0].strip(),\n",
        "            \"institution\": section[1].strip(),\n",
        "            \"details\": section[2].strip(),\n",
        "            \"year\": section[3].strip() if len(section) > 3 else None,\n",
        "            \"location\": section[4].strip() if len(section) > 4 else \"Pune\"\n",
        "        })\n",
        "\n",
        "    # Extract projects\n",
        "    projects = re.findall(r'([^\\n]+)\\n([^\\n]+)\\n• (.+?)\\n• (.+?)\\n', text, re.DOTALL)\n",
        "    project_list = []\n",
        "    for project in projects:\n",
        "        project_list.append({\n",
        "            \"title\": project[0].strip(),\n",
        "            \"technologies\": [tech.strip() for tech in project[1].split(',')],\n",
        "            \"description\": project[2].strip() + ' ' + project[3].strip()\n",
        "        })\n",
        "\n",
        "    # Extract technical skills\n",
        "    technical_skills = {\n",
        "        \"fundamentals\": re.search(r'Fundamental skills : (.+)', text).group(1).strip().split(','),\n",
        "        \"programming_languages\": re.search(r'Programming languages : (.+)', text).group(1).strip().split(','),\n",
        "        \"database\": re.search(r'Database : (.+)', text).group(1).strip(),\n",
        "        \"course_work\": re.search(r'Course Work : (.+)', text).group(1).strip().split(','),\n",
        "        \"cloud_databases\": re.search(r'Cloud databases : (.+)', text).group(1).strip().split(','),\n",
        "        \"text_analysis\": re.search(r'Text analysis : (.+)', text).group(1).strip().split(','),\n",
        "        \"developer_tools\": re.search(r'Developer Tools : (.+)', text).group(1).strip().split(',')\n",
        "    }\n",
        "\n",
        "    # Extract soft skills\n",
        "    soft_skills = re.search(r'SOFT SKILLS\\n([\\s\\S]+?)\\nEXTRA - CURRICULAR', text).group(1).strip().split('\\n• ')\n",
        "\n",
        "    # Extract extra-curricular activities\n",
        "    extra_curricular = re.findall(r'([^\\n]+)\\n([^\\n]+)\\n• (.+?)\\n(\\d{4} – \\d{4})\\n• (.+)', text, re.DOTALL)\n",
        "    extra_curricular_list = []\n",
        "    for activity in extra_curricular:\n",
        "        extra_curricular_list.append({\n",
        "            \"role\": activity[0].strip(),\n",
        "            \"organization\": activity[1].strip(),\n",
        "            \"responsibilities\": [resp.strip() for resp in activity[2].split('\\n• ')],\n",
        "            \"years\": activity[3].strip()\n",
        "        })\n",
        "\n",
        "    resume_data = {\n",
        "        \"contact_info\": contact_info,\n",
        "        \"profile\": profile,\n",
        "        \"education\": education,\n",
        "        \"projects\": project_list,\n",
        "        \"technical_skills\": technical_skills,\n",
        "        \"soft_skills\": soft_skills,\n",
        "        \"extra_curricular\": extra_curricular_list\n",
        "    }\n",
        "\n",
        "    return resume_data\n",
        "\n",
        "def main():\n",
        "    file_path = 'resume.txt'  # Change this to your resume file path\n",
        "    resume_text = extract_text_from_pdf(file_path)\n",
        "    parsed_data = parse_resume(resume_text)\n",
        "    json_data = json.dumps(parsed_data, indent=4)\n",
        "    with open('resume_data.json', 'w') as f:\n",
        "        f.write(json_data)\n",
        "    print(\"Resume parsed and saved to 'resume_data.json'\")\n",
        "\n",
        "if __name__ == \"__main__\":\n",
        "    main()\n"
      ],
      "metadata": {
        "colab": {
          "base_uri": "https://localhost:8080/"
        },
        "id": "mCitW2RElVIw",
        "outputId": "a2d507e7-6d82-4a9c-d973-886ad306aa38"
      },
      "execution_count": 9,
      "outputs": [
        {
          "output_type": "stream",
          "name": "stdout",
          "text": [
            "Resume parsed and saved to 'resume_data.json'\n"
          ]
        }
      ]
    },
    {
      "cell_type": "code",
      "source": [],
      "metadata": {
        "id": "FgqtGe44jL0C"
      },
      "execution_count": null,
      "outputs": []
    }
  ]
}